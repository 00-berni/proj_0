{
 "cells": [
  {
   "cell_type": "markdown",
   "metadata": {},
   "source": [
    "# Visibility\n",
    "\n",
    "## Table of Contents\n",
    "\n",
    "1. [Time](#time)\n",
    "   1. [First Cell](#first-cell)\n",
    "   2. [Second Cell](#second-cell)\n",
    "\n",
    "## Time\n",
    "\n",
    "### First Cell\n",
    "\n",
    "Import required packages "
   ]
  },
  {
   "cell_type": "code",
   "execution_count": 1,
   "metadata": {},
   "outputs": [],
   "source": [
    "import numpy as np\n",
    "from numpy import pi\n",
    "import matplotlib.pyplot as plt\n"
   ]
  },
  {
   "cell_type": "markdown",
   "metadata": {},
   "source": [
    "### Second Cell\n",
    "\n",
    "Implementation of the function `JulianDate()`: it takes the date in format `[YY;MM;DD;hh;mm;ss]` and gives the same date in Julian days `[DD;hh;mm;ss]`"
   ]
  },
  {
   "cell_type": "code",
   "execution_count": null,
   "metadata": {},
   "outputs": [],
   "source": [
    "\n",
    "##* \n",
    "def JulianDate(date):\n",
    "\t\"\"\"`JulianDate()`\n",
    "\n",
    "\tFunction to convert solar date to Julian days\n",
    "\n",
    "\t## Parameters\n",
    "\n",
    "\t`date` : list\n",
    "\t  solar date\n",
    "\n",
    "\t## Return\n",
    "\n",
    "\t`juliandate` : list\n",
    "\t  julian day\n",
    "\t\n",
    "\t\"\"\"\n",
    "\tjuliandate = []\n",
    "\treturn juliandate\n",
    "##* "
   ]
  },
  {
   "cell_type": "code",
   "execution_count": null,
   "metadata": {},
   "outputs": [],
   "source": [
    "\n",
    "##*\n",
    "def ConvAngle(angle):\n",
    "\t\"\"\"`ConvAngle()`\n",
    "\n",
    "\tConvert angles from degrees to radiants and vice versa\n",
    "\n",
    "\t## Parameters\n",
    "\n",
    "\t`angle` : list or float\n",
    "\t   value of the angle to convert\n",
    "\t   - degrees : the variable is a list [dd, mm, ss.ss]\n",
    "\t   - radiant : the variable is a float \n",
    "\n",
    "\t## Return\n",
    "\n",
    "\t`cangle` : float or list\n",
    "\t   converted angle\n",
    "\t   - radiant : if `angle` is in degrees. Variable is a float\n",
    "\t   - degrees : if `angle` is in radiant. Variable is a list\n",
    "\n",
    "\t## Examples\n",
    "\n",
    "\t```\n",
    "\t>>> ConvAngle([90, 0., 0.])/pi\n",
    "\t0.5\n",
    "\t>>> ConvAngle(pi/2)\n",
    "\t[90, 0., 0.]\n",
    "\t```\n",
    "\t\"\"\"\n",
    "\talpha = pi/180\n",
    "\tif(type(angle) == list):\n",
    "\t\tcangle = angle[0] + angle[1]/60 + angle[2]/3600\n",
    "\t\tcangle *= alpha\n",
    "\telse:\n",
    "\t\tangle /= alpha\n",
    "\t\tcangle = np.zeros(3)\n",
    "\t\tcangle[0] = int(angle)\n",
    "\t\tcangle[1] = int((angle - cangle[0])*60)\n",
    "\t\tcangle[2] = ((angle-cangle[0])*60 - cangle[1])*60\n",
    "\treturn cangle\n",
    "##*"
   ]
  }
 ],
 "metadata": {
  "kernelspec": {
   "display_name": "Python 3.9.13 64-bit (microsoft store)",
   "language": "python",
   "name": "python3"
  },
  "language_info": {
   "codemirror_mode": {
    "name": "ipython",
    "version": 3
   },
   "file_extension": ".py",
   "mimetype": "text/x-python",
   "name": "python",
   "nbconvert_exporter": "python",
   "pygments_lexer": "ipython3",
   "version": "3.9.13"
  },
  "orig_nbformat": 4,
  "vscode": {
   "interpreter": {
    "hash": "0239bfcbd03a7bade52718dff4aa6abfd1d974cfa24115a927ef5be8de0f3f9a"
   }
  }
 },
 "nbformat": 4,
 "nbformat_minor": 2
}
