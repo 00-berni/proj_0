{
 "cells": [
  {
   "cell_type": "markdown",
   "metadata": {},
   "source": [
    "# Visibility\n",
    "\n",
    "## Table of Contents\n",
    "\n",
    "1. [Time](#time)\n",
    "   1. [First Cell](#first-cell)\n",
    "   2. [Second Cell](#second-cell)\n",
    "\n",
    "## Time\n",
    "\n",
    "### First Cell\n",
    "\n",
    "Import required packages "
   ]
  },
  {
   "cell_type": "code",
   "execution_count": 1,
   "metadata": {},
   "outputs": [],
   "source": [
    "import numpy as np\n",
    "import matplotlib.pyplot as plt\n"
   ]
  },
  {
   "cell_type": "markdown",
   "metadata": {},
   "source": [
    "### Second Cell\n",
    "\n",
    "Implementation of the function `JulianDate()`: it takes the date in format `[YY;MM;DD;hh;mm;ss]` and gives the same date in Julian days `[DD;hh;mm;ss]`"
   ]
  },
  {
   "cell_type": "code",
   "execution_count": null,
   "metadata": {},
   "outputs": [],
   "source": [
    "\n",
    "##* \n",
    "def JulianDate(date):\n",
    "\t\"\"\"`JulianDate()`\n",
    "\n",
    "\tFunction to convert solar date to Julian days\n",
    "\n",
    "\t## Parameters\n",
    "\n",
    "\t`date` : list\n",
    "\t  solar date\n",
    "\n",
    "\t## Return\n",
    "\n",
    "\t`juliandate` : list\n",
    "\t  julian day\n",
    "\t\n",
    "\t\"\"\"\n",
    "\tjuliandate = []\n",
    "\treturn juliandate\n",
    "##* "
   ]
  },
  {
   "cell_type": "markdown",
   "metadata": {},
   "source": []
  }
 ],
 "metadata": {
  "kernelspec": {
   "display_name": "Python 3.9.13 64-bit (microsoft store)",
   "language": "python",
   "name": "python3"
  },
  "language_info": {
   "codemirror_mode": {
    "name": "ipython",
    "version": 3
   },
   "file_extension": ".py",
   "mimetype": "text/x-python",
   "name": "python",
   "nbconvert_exporter": "python",
   "pygments_lexer": "ipython3",
   "version": "3.9.13"
  },
  "orig_nbformat": 4,
  "vscode": {
   "interpreter": {
    "hash": "0239bfcbd03a7bade52718dff4aa6abfd1d974cfa24115a927ef5be8de0f3f9a"
   }
  }
 },
 "nbformat": 4,
 "nbformat_minor": 2
}
