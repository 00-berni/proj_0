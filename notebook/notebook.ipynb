{
 "cells": [
  {
   "attachments": {},
   "cell_type": "markdown",
   "metadata": {},
   "source": [
    "# Visibility\n",
    "\n",
    "## Table of Contents\n",
    "\n",
    "\n",
    "\n",
    "## I. Usability elements\n",
    "\n",
    "Import required packages "
   ]
  },
  {
   "cell_type": "code",
   "execution_count": 1,
   "metadata": {
    "tags": []
   },
   "outputs": [],
   "source": [
    "## required packages\n",
    "import numpy as np\n",
    "from numpy import pi\n",
    "import matplotlib.pyplot as plt"
   ]
  },
  {
   "attachments": {},
   "cell_type": "markdown",
   "metadata": {},
   "source": [
    "### I.I Angle classes\n",
    "\n",
    "To handle the different formats in which one can express the value of an angle on celestial sphere (radiants, degrees, hours), two classes of object are defined. These keep the value of an angle in different units and provide some usefull function to convert from one format to an other."
   ]
  },
  {
   "cell_type": "code",
   "execution_count": 2,
   "metadata": {},
   "outputs": [],
   "source": [
    "## angle classes\n",
    "class Angles():\n",
    "    \"\"\"Class to handle with angles in degrees or radiants.\n",
    "    The class keeps the value of an angle in deg and rad and gives the functions to convert the one in the other.\n",
    "\n",
    "    :param deg: the amplitude of the angle in [degrees, primes, seconds], defaults to np.zeros(3)\n",
    "    :type deg: numpy_array, optional\n",
    "    :param rad: the amplitude of the angle in radiants, defaults to 0\n",
    "    :type rad: float, optional\n",
    "    \"\"\"\n",
    "    def __init__(self, deg = np.zeros(3), rad = 0.0) -> None:\n",
    "        \"\"\"The constructor of the class\"\"\"\n",
    "        self.deg = deg\n",
    "        self.rad = rad\n",
    "\n",
    "    def deg_check(self) -> None:\n",
    "        \"\"\"The shape of the angle value in deg is [int (<360), int (<60), float (<60)]. \n",
    "        This function checks and adjusts the format of the angle value.\n",
    "\n",
    "        :rtype: None\n",
    "        \"\"\"\n",
    "        for i in range(2):\n",
    "            diff = self.deg[i] % 1\n",
    "            if diff != 0:\n",
    "                self.deg[i] = int(self.deg[i])\n",
    "                self.deg[i+1] += diff*60\n",
    "        self.deg[2] = round(self.deg[2], 3)\n",
    "        if self.deg[2] >= 60 :\n",
    "            tmp = self.deg[2]\n",
    "            self.deg[2] = tmp % 60\n",
    "            self.deg[1] += tmp // 60\n",
    "        if self.deg[1] >= 60 :\n",
    "            tmp = self.deg[1]\n",
    "            self.deg[1] = tmp % 60\n",
    "            self.deg[0] += tmp // 60\n",
    "        if self.deg[0] > 360 :\n",
    "            self.deg[0] -= 360\n",
    "\n",
    "    def deg_to_rad(self) -> None:\n",
    "        \"\"\"The function converts deg value in rad one of an angle\n",
    "\n",
    "        :rtype: None\n",
    "        \"\"\"\n",
    "        ang = self.deg[0] + self.deg[1]/60 + self.deg[2]/3600\n",
    "        self.rad = ang / 180 * pi\n",
    "\n",
    "    def rad_to_deg(self) -> None:\n",
    "        \"\"\"The function converts rad value of an angle in deg one\n",
    "\n",
    "        :rtype: None\n",
    "        \"\"\"\n",
    "        ang = self.rad / pi * 180\n",
    "        # if(ang > 360):\n",
    "        #     ang - 360\n",
    "        self.deg = np.array([ang, 0, 0])\n",
    "        self.deg_check()\n",
    "\n",
    "    def angle_init(self) -> None:\n",
    "        \"\"\"The function checks deg value of an angle and assigns the respective rad one \n",
    "\n",
    "        :rtype: None\n",
    "        \"\"\"\n",
    "        if self.rad == 0.0 :\n",
    "            self.deg_check()\n",
    "            self.deg_to_rad()\n",
    "        else:\n",
    "            self.rad_to_deg()   \n",
    "    \n",
    "    def all_deg(self):\n",
    "        ang = self.rad * 180 / pi\n",
    "        return ang\n",
    "        \n",
    "\n",
    "class HAngles(Angles):\n",
    "    \"\"\"This is essentially the same class as :class: `Angles`, keeping in account the description of an angle in [hours,minutes,seconds] format.\n",
    "\n",
    "    :param deg: parameter from :class: `Angles`\n",
    "        the amplitude of the angle in [degrees, primes, seconds], defaults to np.zeros(3)\n",
    "    :type deg: numpy_array, optional\n",
    "    :param rad: parameter from :class: `Angles`\n",
    "        the amplitude of the angle in radiants, defaults to 0\n",
    "    :type rad: float, optional\n",
    "    :param hms: the amplitude of the angle in [h, m, s], defaults to np.zeros(3)\n",
    "    :type deg: numpy_array, optional\n",
    "   \"\"\"\n",
    "    def __init__(self, deg = np.zeros(3), rad = 0, hms = np.zeros(3)) -> None:\n",
    "        \"\"\"The constructor function\"\"\"\n",
    "        super().__init__(deg,rad)\n",
    "        self.hms = hms\n",
    "\n",
    "    def hms_check(self) -> None:\n",
    "        \"\"\"The shape of the angle value in hms is [int, int (<60), float (<60)]. \n",
    "        This function checks and adjusts the format of the angle value.\n",
    "        \"\"\"\n",
    "        for i in range(2):\n",
    "            diff = self.hms[i] % 1\n",
    "            if diff != 0:\n",
    "                self.hms[i] = int(self.hms[i])\n",
    "                self.hms[i+1] += diff*60\n",
    "        self.hms[2] = round(self.hms[2], 3)\n",
    "        if self.hms[2] >= 60 :\n",
    "            tmp = self.hms[2]\n",
    "            self.hms[2] = tmp % 60\n",
    "            self.hms[1] += tmp // 60\n",
    "        if self.hms[1] >= 60 :\n",
    "            tmp = self.hms[1]\n",
    "            self.hms[1] = tmp % 60\n",
    "            self.hms[0] += tmp // 60\n",
    "\n",
    "    def deg_to_hms(self) -> None:\n",
    "        \"\"\"The function converts deg value of an angle in hms one\n",
    "\n",
    "        :rtype: None\n",
    "        \"\"\"\n",
    "        self.hms = self.deg / 15\n",
    "        self.hms_check()\n",
    "\n",
    "    def hms_to_deg(self) -> None:\n",
    "        \"\"\"The function converts hms value of an angle in deg one\n",
    "\n",
    "        :rtype: None\n",
    "        \"\"\"\n",
    "        self.deg = self.hms * 15\n",
    "        self.deg_check()\n",
    "\n",
    "    def angle_init(self) -> None:\n",
    "        \"\"\"The function checks if angle is given in deg or hms format then assigns the respective values for the other formats \n",
    "\n",
    "        :rtype: None\n",
    "        \"\"\"\n",
    "        if self.rad != 0.0 :\n",
    "            self.rad_to_deg()\n",
    "            self.deg_to_hms()\n",
    "        elif all(self.hms == np.zeros(3)) :\n",
    "            self.deg_check()\n",
    "            self.deg_to_hms()\n",
    "            self.deg_to_rad()\n",
    "        else:\n",
    "            self.hms_check()\n",
    "            self.hms_to_deg()\n",
    "            self.deg_to_rad()\n",
    "\n",
    "\n",
    "def complementary(theta : Angles or HAngles) -> Angles or HAngles :\n",
    "    \"\"\"This function takes an angle and returns its complementary.\n",
    "    The angles are objects :class: `Angles` or `HAngles`.\n",
    "\n",
    "    :param theta: the angle\n",
    "    :type theta: :class: `Angles` or :class: `HAngles`\n",
    "    \n",
    "    :return: the complementar angle\n",
    "    :rtype: :class: `Angles` or :class: `HAngles`\n",
    "    \"\"\"\n",
    "    class_type = type(theta)\n",
    "    compl_angle = class_type(rad = (pi/2 - theta.rad))\n",
    "    compl_angle.angle_init()\n",
    "    return compl_angle\n"
   ]
  },
  {
   "attachments": {},
   "cell_type": "markdown",
   "metadata": {},
   "source": [
    "### I.II Input data"
   ]
  },
  {
   "attachments": {},
   "cell_type": "markdown",
   "metadata": {},
   "source": [
    "## II. Time"
   ]
  },
  {
   "attachments": {},
   "cell_type": "markdown",
   "metadata": {},
   "source": [
    "## III. Trajectory along the sky"
   ]
  },
  {
   "cell_type": "code",
   "execution_count": 7,
   "metadata": {},
   "outputs": [
    {
     "name": "stdout",
     "output_type": "stream",
     "text": [
      "-6.2301113055904676 6.2301113055904676\n"
     ]
    },
    {
     "data": {
      "text/plain": [
       "[<matplotlib.lines.Line2D at 0x1891305ca90>]"
      ]
     },
     "execution_count": 7,
     "metadata": {},
     "output_type": "execute_result"
    },
    {
     "data": {
      "image/png": "[encoded data removed]",
      "text/plain": [
       "<Figure size 432x288 with 1 Axes>"
      ]
     },
     "metadata": {},
     "output_type": "display_data"
    },
    {
     "data": {
      "image/png": "[encoded data removed]",
      "text/plain": [
       "<Figure size 432x288 with 1 Axes>"
      ]
     },
     "metadata": {},
     "output_type": "display_data"
    },
    {
     "data": {
      "image/png": "[encoded data removed]",
      "text/plain": [
       "<Figure size 432x288 with 1 Axes>"
      ]
     },
     "metadata": {},
     "output_type": "display_data"
    }
   ],
   "source": [
    "## object trajectory along the sky \n",
    "##* From ref 2. in `README.md` eq. 24, 25\n",
    "def rise_set_culmination(delta : float, lat : float) -> list:\n",
    "    transit = pi/2 - (lat - delta)\n",
    "    low_culm = (lat + delta) - pi/2\n",
    "    if low_culm > 0 :\n",
    "        set = [0., 0.]\n",
    "        rise = [0., 0.]\n",
    "    else:\n",
    "        set_ha = np.arccos(-1 * np.tan(delta) * np.tan(lat))\n",
    "        set_az = np.arccos(np.sin(delta) / np.cos(lat)) - pi/2 \n",
    "        rise_ha = 2*pi - set_ha\n",
    "        rise_az = -1 * set_az\n",
    "        set = [set_ha, set_az]\n",
    "        rise = [rise_ha, rise_az]\n",
    "    return transit, low_culm, set, rise\n",
    "\n",
    "##* From ref 2. in `README.md` eq. 26, 27\n",
    "def step(alt : Angles, az : Angles, lat : Angles, n : int):\n",
    "    alt_data = []\n",
    "    az_data = []\n",
    "    phi = lat.rad\n",
    "    alt_n = alt\n",
    "    az_n = az\n",
    "    for i in range(n):\n",
    "        z = complementary(alt_n)\n",
    "        alt_n.deg[2] = alt_n.deg[2] + 15 * np.sin(az_n.rad) * np.cos(phi)\n",
    "        alt_n.deg_to_rad()\n",
    "        az_n.deg[2] = az_n.deg[2] + 15 * (np.sin(phi) - np.cos(phi) * np.cos(az_n.rad) / np.tan(z.rad))  \n",
    "        az_n.deg_to_rad()\n",
    "\n",
    "        alt_n.deg_check()\n",
    "        az_n.deg_check()\n",
    "        \n",
    "        alt_data += [alt_n.rad]\n",
    "        az_data += [az_n.rad]\n",
    "    return np.array(alt_data), np.array(az_data)\n",
    "\n",
    "#def time_evolution(alt : Angles, az : Angles, lat : Angles, n : int):\n",
    "\n",
    "alt0 = Angles(np.array([30,0,0]))\n",
    "alt0.angle_init()\n",
    "az0 = Angles(np.array([20,0,0])) \n",
    "az0.angle_init()\n",
    "lat0 = Angles(np.array([50,0,0]))\n",
    "lat0.angle_init()\n",
    "delta = 4 * pi / 180\n",
    "\n",
    "transit, low, set, rise = rise_set_culmination(delta, lat0.rad)\n",
    "set = set[1]*180/pi\n",
    "rise = rise[1]*180/pi\n",
    "#print()\n",
    "\n",
    "print(set, rise)\n",
    "\n",
    "n = 24 * 3600\n",
    "\n",
    "alt, az = step(alt0, az0, lat0, n)\n",
    "\n",
    "plt.figure(1)\n",
    "plt.plot(np.arange(n),alt*180/pi)\n",
    "plt.figure(2)\n",
    "plt.plot(np.arange(n),az*180/pi)\n",
    "plt.figure(3)\n",
    "plt.plot(az*180/pi, alt*180/pi)\n",
    "plt.plot([set],[0],'o')\n",
    "plt.plot([rise],[0],'o')\n",
    "plt.plot([90],[transit*180/pi],'o')\n",
    "plt.plot([0],[low*180/pi],'o')\n",
    "#plt.plot([])"
   ]
  },
  {
   "attachments": {},
   "cell_type": "markdown",
   "metadata": {},
   "source": [
    "## IV. Sun"
   ]
  },
  {
   "attachments": {},
   "cell_type": "markdown",
   "metadata": {},
   "source": [
    "### IV.I Twilight"
   ]
  },
  {
   "attachments": {},
   "cell_type": "markdown",
   "metadata": {},
   "source": [
    "## V. Moon"
   ]
  },
  {
   "attachments": {},
   "cell_type": "markdown",
   "metadata": {},
   "source": [
    "### V.I Moon Phases"
   ]
  },
  {
   "cell_type": "markdown",
   "metadata": {},
   "source": []
  }
 ],
 "metadata": {
  "kernelspec": {
   "display_name": "Python 3.9.13 64-bit (microsoft store)",
   "language": "python",
   "name": "python3"
  },
  "language_info": {
   "codemirror_mode": {
    "name": "ipython",
    "version": 3
   },
   "file_extension": ".py",
   "mimetype": "text/x-python",
   "name": "python",
   "nbconvert_exporter": "python",
   "pygments_lexer": "ipython3",
   "version": "3.9.13"
  },
  "orig_nbformat": 4,
  "vscode": {
   "interpreter": {
    "hash": "c3eff4986d1a9508a158a9c42940866932f557e0c4256517736d5e054e8e0384"
   }
  }
 },
 "nbformat": 4,
 "nbformat_minor": 2
}
