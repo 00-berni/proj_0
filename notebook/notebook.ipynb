{
 "cells": [
  {
   "cell_type": "markdown",
   "metadata": {},
   "source": [
    "# Visibility\n",
    "\n",
    "## Table of Contents\n",
    "\n",
    "1. [Time](#time)\n",
    "   1. [First Cell](#first-cell)\n",
    "   2. [Second Cell](#second-cell)\n",
    "\n",
    "## Time\n",
    "\n",
    "### First Cell\n",
    "\n",
    "Import required packages "
   ]
  },
  {
   "cell_type": "code",
   "execution_count": 1,
   "metadata": {
    "tags": [
     "package"
    ]
   },
   "outputs": [],
   "source": [
    "import numpy as np\n",
    "from numpy import pi\n",
    "import matplotlib.pyplot as plt\n"
   ]
  },
  {
   "cell_type": "markdown",
   "metadata": {},
   "source": [
    "### Second Cell\n",
    "\n",
    "Implementation of the function `JulianDate()`: it takes the date in format `[YY;MM;DD;hh;mm;ss]` and gives the same date in Julian days `[DD;hh;mm;ss]`"
   ]
  },
  {
   "cell_type": "code",
   "execution_count": null,
   "metadata": {},
   "outputs": [],
   "source": [
    "\n",
    "##* \n",
    "def JulianDate(date):\n",
    "    \"\"\"Function to convert solar date to Julian days\n",
    "    \n",
    "    :type date: list\n",
    "    :param date: solar date\n",
    "\n",
    "    :rtype: list\n",
    "    :return: julian day\n",
    "    \"\"\"\n",
    "    juliandate = []\n",
    "    return juliandate\n",
    "##* \n"
   ]
  },
  {
   "cell_type": "code",
   "execution_count": null,
   "metadata": {},
   "outputs": [],
   "source": [
    "\n",
    "\n",
    "class Angles():\n",
    "\n",
    "    def __init__(self, deg = 0, rad = 0, hms = np.zeros(0)) -> None:\n",
    "        \n",
    "        self.deg = deg\n",
    "        self.rad = rad\n",
    "        self.hms = hms\n",
    "\n",
    "    def deg_to_rad():\n",
    "        \n",
    "\n",
    "##*\n",
    "def ConvAngle(angle):\n",
    "    \"\"\"Convert angles from degrees to radiants and vice versa\n",
    "\n",
    "    Parameters\n",
    "    ----------\n",
    "    angle : list or float\n",
    "        value of the angle to convert\n",
    "        - degrees : the variable is a list [dd, mm, ss.ss]\n",
    "        - radiant : the variable is a float \n",
    "\n",
    "    Returns\n",
    "    -------\n",
    "    cangle : float or list\n",
    "        converted angle\n",
    "        - radiant : if `angle` is in degrees. Variable is a float\n",
    "        - degrees : if `angle` is in radiant. Variable is a list\n",
    "    \n",
    "    Examples\n",
    "    --------\n",
    "    >>> ConvAngle([90, 0., 0.])/pi\n",
    "    0.5\n",
    "    >>> ConvAngle(pi/2)\n",
    "    [90, 0., 0.]    \n",
    "    \"\"\"\n",
    "    alpha = pi/180\n",
    "    if(type(angle) == list):\n",
    "        cangle = angle[0] + angle[1]/60 + angle[2]/3600\n",
    "        cangle *= alpha\n",
    "    else:\n",
    "        angle /= alpha\n",
    "        cangle = np.zeros(3)\n",
    "        cangle[0] = int(angle)\n",
    "        cangle[1] = int((angle - cangle[0])*60)\n",
    "        cangle[2] = ((angle-cangle[0])*60 - cangle[1])*60\n",
    "    return cangle\n",
    "##*"
   ]
  }
 ],
 "metadata": {
  "kernelspec": {
   "display_name": "Python 3",
   "language": "python",
   "name": "python3"
  },
  "language_info": {
   "codemirror_mode": {
    "name": "ipython",
    "version": 3
   },
   "file_extension": ".py",
   "mimetype": "text/x-python",
   "name": "python",
   "nbconvert_exporter": "python",
   "pygments_lexer": "ipython3",
   "version": "3.10.6"
  },
  "orig_nbformat": 4,
  "vscode": {
   "interpreter": {
    "hash": "916dbcbb3f70747c44a77c7bcd40155683ae19c65e1c03b4aa3499c5328201f1"
   }
  }
 },
 "nbformat": 4,
 "nbformat_minor": 2
}
